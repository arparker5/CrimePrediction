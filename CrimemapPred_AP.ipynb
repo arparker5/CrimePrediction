{
 "cells": [
  {
   "cell_type": "code",
   "execution_count": 1,
   "metadata": {},
   "outputs": [],
   "source": [
    "import pandas as pd\n",
    "import numpy as np\n",
    "import seaborn as sns\n",
    "import matplotlib.pyplot as plt\n",
    "fdf = pd.read_csv('train.csv')\n",
    "sf = pd.read_csv('sfweather.csv')"
   ]
  },
  {
   "cell_type": "code",
   "execution_count": 2,
   "metadata": {},
   "outputs": [
    {
     "data": {
      "text/html": [
       "<div>\n",
       "<style scoped>\n",
       "    .dataframe tbody tr th:only-of-type {\n",
       "        vertical-align: middle;\n",
       "    }\n",
       "\n",
       "    .dataframe tbody tr th {\n",
       "        vertical-align: top;\n",
       "    }\n",
       "\n",
       "    .dataframe thead th {\n",
       "        text-align: right;\n",
       "    }\n",
       "</style>\n",
       "<table border=\"1\" class=\"dataframe\">\n",
       "  <thead>\n",
       "    <tr style=\"text-align: right;\">\n",
       "      <th></th>\n",
       "      <th>Date</th>\n",
       "      <th>Max.TemperatureF</th>\n",
       "      <th>Mean.TemperatureF</th>\n",
       "      <th>Min.TemperatureF</th>\n",
       "      <th>season</th>\n",
       "    </tr>\n",
       "  </thead>\n",
       "  <tbody>\n",
       "    <tr>\n",
       "      <th>0</th>\n",
       "      <td>1/1/2003</td>\n",
       "      <td>52</td>\n",
       "      <td>48</td>\n",
       "      <td>43</td>\n",
       "      <td>Winter</td>\n",
       "    </tr>\n",
       "    <tr>\n",
       "      <th>1</th>\n",
       "      <td>1/2/2003</td>\n",
       "      <td>54</td>\n",
       "      <td>50</td>\n",
       "      <td>46</td>\n",
       "      <td>Winter</td>\n",
       "    </tr>\n",
       "    <tr>\n",
       "      <th>2</th>\n",
       "      <td>1/3/2003</td>\n",
       "      <td>55</td>\n",
       "      <td>50</td>\n",
       "      <td>46</td>\n",
       "      <td>Winter</td>\n",
       "    </tr>\n",
       "    <tr>\n",
       "      <th>3</th>\n",
       "      <td>1/4/2003</td>\n",
       "      <td>57</td>\n",
       "      <td>52</td>\n",
       "      <td>48</td>\n",
       "      <td>Winter</td>\n",
       "    </tr>\n",
       "    <tr>\n",
       "      <th>4</th>\n",
       "      <td>1/5/2003</td>\n",
       "      <td>55</td>\n",
       "      <td>52</td>\n",
       "      <td>48</td>\n",
       "      <td>Winter</td>\n",
       "    </tr>\n",
       "    <tr>\n",
       "      <th>...</th>\n",
       "      <td>...</td>\n",
       "      <td>...</td>\n",
       "      <td>...</td>\n",
       "      <td>...</td>\n",
       "      <td>...</td>\n",
       "    </tr>\n",
       "    <tr>\n",
       "      <th>4743</th>\n",
       "      <td>12/27/2015</td>\n",
       "      <td>48</td>\n",
       "      <td>41</td>\n",
       "      <td>34</td>\n",
       "      <td>Winter</td>\n",
       "    </tr>\n",
       "    <tr>\n",
       "      <th>4744</th>\n",
       "      <td>12/28/2015</td>\n",
       "      <td>48</td>\n",
       "      <td>45</td>\n",
       "      <td>41</td>\n",
       "      <td>Winter</td>\n",
       "    </tr>\n",
       "    <tr>\n",
       "      <th>4745</th>\n",
       "      <td>12/29/2015</td>\n",
       "      <td>54</td>\n",
       "      <td>45</td>\n",
       "      <td>36</td>\n",
       "      <td>Winter</td>\n",
       "    </tr>\n",
       "    <tr>\n",
       "      <th>4746</th>\n",
       "      <td>12/30/2015</td>\n",
       "      <td>49</td>\n",
       "      <td>45</td>\n",
       "      <td>40</td>\n",
       "      <td>Winter</td>\n",
       "    </tr>\n",
       "    <tr>\n",
       "      <th>4747</th>\n",
       "      <td>12/31/2015</td>\n",
       "      <td>51</td>\n",
       "      <td>45</td>\n",
       "      <td>39</td>\n",
       "      <td>Winter</td>\n",
       "    </tr>\n",
       "  </tbody>\n",
       "</table>\n",
       "<p>4748 rows × 5 columns</p>\n",
       "</div>"
      ],
      "text/plain": [
       "            Date  Max.TemperatureF  Mean.TemperatureF  Min.TemperatureF  \\\n",
       "0       1/1/2003                52                 48                43   \n",
       "1       1/2/2003                54                 50                46   \n",
       "2       1/3/2003                55                 50                46   \n",
       "3       1/4/2003                57                 52                48   \n",
       "4       1/5/2003                55                 52                48   \n",
       "...          ...               ...                ...               ...   \n",
       "4743  12/27/2015                48                 41                34   \n",
       "4744  12/28/2015                48                 45                41   \n",
       "4745  12/29/2015                54                 45                36   \n",
       "4746  12/30/2015                49                 45                40   \n",
       "4747  12/31/2015                51                 45                39   \n",
       "\n",
       "      season  \n",
       "0     Winter  \n",
       "1     Winter  \n",
       "2     Winter  \n",
       "3     Winter  \n",
       "4     Winter  \n",
       "...      ...  \n",
       "4743  Winter  \n",
       "4744  Winter  \n",
       "4745  Winter  \n",
       "4746  Winter  \n",
       "4747  Winter  \n",
       "\n",
       "[4748 rows x 5 columns]"
      ]
     },
     "execution_count": 2,
     "metadata": {},
     "output_type": "execute_result"
    }
   ],
   "source": [
    "sf"
   ]
  },
  {
   "cell_type": "code",
   "execution_count": 3,
   "metadata": {},
   "outputs": [
    {
     "data": {
      "text/html": [
       "<div>\n",
       "<style scoped>\n",
       "    .dataframe tbody tr th:only-of-type {\n",
       "        vertical-align: middle;\n",
       "    }\n",
       "\n",
       "    .dataframe tbody tr th {\n",
       "        vertical-align: top;\n",
       "    }\n",
       "\n",
       "    .dataframe thead th {\n",
       "        text-align: right;\n",
       "    }\n",
       "</style>\n",
       "<table border=\"1\" class=\"dataframe\">\n",
       "  <thead>\n",
       "    <tr style=\"text-align: right;\">\n",
       "      <th></th>\n",
       "      <th>Dates</th>\n",
       "      <th>Category</th>\n",
       "      <th>Descript</th>\n",
       "      <th>DayOfWeek</th>\n",
       "      <th>PdDistrict</th>\n",
       "      <th>Resolution</th>\n",
       "      <th>Address</th>\n",
       "      <th>X</th>\n",
       "      <th>Y</th>\n",
       "    </tr>\n",
       "  </thead>\n",
       "  <tbody>\n",
       "    <tr>\n",
       "      <th>0</th>\n",
       "      <td>2015-05-13 23:53:00</td>\n",
       "      <td>WARRANTS</td>\n",
       "      <td>WARRANT ARREST</td>\n",
       "      <td>Wednesday</td>\n",
       "      <td>NORTHERN</td>\n",
       "      <td>ARREST, BOOKED</td>\n",
       "      <td>OAK ST / LAGUNA ST</td>\n",
       "      <td>-122.425892</td>\n",
       "      <td>37.774599</td>\n",
       "    </tr>\n",
       "    <tr>\n",
       "      <th>1</th>\n",
       "      <td>2015-05-13 23:53:00</td>\n",
       "      <td>OTHER OFFENSES</td>\n",
       "      <td>TRAFFIC VIOLATION ARREST</td>\n",
       "      <td>Wednesday</td>\n",
       "      <td>NORTHERN</td>\n",
       "      <td>ARREST, BOOKED</td>\n",
       "      <td>OAK ST / LAGUNA ST</td>\n",
       "      <td>-122.425892</td>\n",
       "      <td>37.774599</td>\n",
       "    </tr>\n",
       "    <tr>\n",
       "      <th>2</th>\n",
       "      <td>2015-05-13 23:33:00</td>\n",
       "      <td>OTHER OFFENSES</td>\n",
       "      <td>TRAFFIC VIOLATION ARREST</td>\n",
       "      <td>Wednesday</td>\n",
       "      <td>NORTHERN</td>\n",
       "      <td>ARREST, BOOKED</td>\n",
       "      <td>VANNESS AV / GREENWICH ST</td>\n",
       "      <td>-122.424363</td>\n",
       "      <td>37.800414</td>\n",
       "    </tr>\n",
       "    <tr>\n",
       "      <th>3</th>\n",
       "      <td>2015-05-13 23:30:00</td>\n",
       "      <td>LARCENY/THEFT</td>\n",
       "      <td>GRAND THEFT FROM LOCKED AUTO</td>\n",
       "      <td>Wednesday</td>\n",
       "      <td>NORTHERN</td>\n",
       "      <td>NONE</td>\n",
       "      <td>1500 Block of LOMBARD ST</td>\n",
       "      <td>-122.426995</td>\n",
       "      <td>37.800873</td>\n",
       "    </tr>\n",
       "    <tr>\n",
       "      <th>4</th>\n",
       "      <td>2015-05-13 23:30:00</td>\n",
       "      <td>LARCENY/THEFT</td>\n",
       "      <td>GRAND THEFT FROM LOCKED AUTO</td>\n",
       "      <td>Wednesday</td>\n",
       "      <td>PARK</td>\n",
       "      <td>NONE</td>\n",
       "      <td>100 Block of BRODERICK ST</td>\n",
       "      <td>-122.438738</td>\n",
       "      <td>37.771541</td>\n",
       "    </tr>\n",
       "    <tr>\n",
       "      <th>...</th>\n",
       "      <td>...</td>\n",
       "      <td>...</td>\n",
       "      <td>...</td>\n",
       "      <td>...</td>\n",
       "      <td>...</td>\n",
       "      <td>...</td>\n",
       "      <td>...</td>\n",
       "      <td>...</td>\n",
       "      <td>...</td>\n",
       "    </tr>\n",
       "    <tr>\n",
       "      <th>878044</th>\n",
       "      <td>2003-01-06 00:15:00</td>\n",
       "      <td>ROBBERY</td>\n",
       "      <td>ROBBERY ON THE STREET WITH A GUN</td>\n",
       "      <td>Monday</td>\n",
       "      <td>TARAVAL</td>\n",
       "      <td>NONE</td>\n",
       "      <td>FARALLONES ST / CAPITOL AV</td>\n",
       "      <td>-122.459033</td>\n",
       "      <td>37.714056</td>\n",
       "    </tr>\n",
       "    <tr>\n",
       "      <th>878045</th>\n",
       "      <td>2003-01-06 00:01:00</td>\n",
       "      <td>LARCENY/THEFT</td>\n",
       "      <td>GRAND THEFT FROM LOCKED AUTO</td>\n",
       "      <td>Monday</td>\n",
       "      <td>INGLESIDE</td>\n",
       "      <td>NONE</td>\n",
       "      <td>600 Block of EDNA ST</td>\n",
       "      <td>-122.447364</td>\n",
       "      <td>37.731948</td>\n",
       "    </tr>\n",
       "    <tr>\n",
       "      <th>878046</th>\n",
       "      <td>2003-01-06 00:01:00</td>\n",
       "      <td>LARCENY/THEFT</td>\n",
       "      <td>GRAND THEFT FROM LOCKED AUTO</td>\n",
       "      <td>Monday</td>\n",
       "      <td>SOUTHERN</td>\n",
       "      <td>NONE</td>\n",
       "      <td>5TH ST / FOLSOM ST</td>\n",
       "      <td>-122.403390</td>\n",
       "      <td>37.780266</td>\n",
       "    </tr>\n",
       "    <tr>\n",
       "      <th>878047</th>\n",
       "      <td>2003-01-06 00:01:00</td>\n",
       "      <td>VANDALISM</td>\n",
       "      <td>MALICIOUS MISCHIEF, VANDALISM OF VEHICLES</td>\n",
       "      <td>Monday</td>\n",
       "      <td>SOUTHERN</td>\n",
       "      <td>NONE</td>\n",
       "      <td>TOWNSEND ST / 2ND ST</td>\n",
       "      <td>-122.390531</td>\n",
       "      <td>37.780607</td>\n",
       "    </tr>\n",
       "    <tr>\n",
       "      <th>878048</th>\n",
       "      <td>2003-01-06 00:01:00</td>\n",
       "      <td>FORGERY/COUNTERFEITING</td>\n",
       "      <td>CHECKS, FORGERY (FELONY)</td>\n",
       "      <td>Monday</td>\n",
       "      <td>BAYVIEW</td>\n",
       "      <td>NONE</td>\n",
       "      <td>1800 Block of NEWCOMB AV</td>\n",
       "      <td>-122.394926</td>\n",
       "      <td>37.738212</td>\n",
       "    </tr>\n",
       "  </tbody>\n",
       "</table>\n",
       "<p>878049 rows × 9 columns</p>\n",
       "</div>"
      ],
      "text/plain": [
       "                      Dates                Category  \\\n",
       "0       2015-05-13 23:53:00                WARRANTS   \n",
       "1       2015-05-13 23:53:00          OTHER OFFENSES   \n",
       "2       2015-05-13 23:33:00          OTHER OFFENSES   \n",
       "3       2015-05-13 23:30:00           LARCENY/THEFT   \n",
       "4       2015-05-13 23:30:00           LARCENY/THEFT   \n",
       "...                     ...                     ...   \n",
       "878044  2003-01-06 00:15:00                 ROBBERY   \n",
       "878045  2003-01-06 00:01:00           LARCENY/THEFT   \n",
       "878046  2003-01-06 00:01:00           LARCENY/THEFT   \n",
       "878047  2003-01-06 00:01:00               VANDALISM   \n",
       "878048  2003-01-06 00:01:00  FORGERY/COUNTERFEITING   \n",
       "\n",
       "                                         Descript  DayOfWeek PdDistrict  \\\n",
       "0                                  WARRANT ARREST  Wednesday   NORTHERN   \n",
       "1                        TRAFFIC VIOLATION ARREST  Wednesday   NORTHERN   \n",
       "2                        TRAFFIC VIOLATION ARREST  Wednesday   NORTHERN   \n",
       "3                    GRAND THEFT FROM LOCKED AUTO  Wednesday   NORTHERN   \n",
       "4                    GRAND THEFT FROM LOCKED AUTO  Wednesday       PARK   \n",
       "...                                           ...        ...        ...   \n",
       "878044           ROBBERY ON THE STREET WITH A GUN     Monday    TARAVAL   \n",
       "878045               GRAND THEFT FROM LOCKED AUTO     Monday  INGLESIDE   \n",
       "878046               GRAND THEFT FROM LOCKED AUTO     Monday   SOUTHERN   \n",
       "878047  MALICIOUS MISCHIEF, VANDALISM OF VEHICLES     Monday   SOUTHERN   \n",
       "878048                   CHECKS, FORGERY (FELONY)     Monday    BAYVIEW   \n",
       "\n",
       "            Resolution                     Address           X          Y  \n",
       "0       ARREST, BOOKED          OAK ST / LAGUNA ST -122.425892  37.774599  \n",
       "1       ARREST, BOOKED          OAK ST / LAGUNA ST -122.425892  37.774599  \n",
       "2       ARREST, BOOKED   VANNESS AV / GREENWICH ST -122.424363  37.800414  \n",
       "3                 NONE    1500 Block of LOMBARD ST -122.426995  37.800873  \n",
       "4                 NONE   100 Block of BRODERICK ST -122.438738  37.771541  \n",
       "...                ...                         ...         ...        ...  \n",
       "878044            NONE  FARALLONES ST / CAPITOL AV -122.459033  37.714056  \n",
       "878045            NONE        600 Block of EDNA ST -122.447364  37.731948  \n",
       "878046            NONE          5TH ST / FOLSOM ST -122.403390  37.780266  \n",
       "878047            NONE        TOWNSEND ST / 2ND ST -122.390531  37.780607  \n",
       "878048            NONE    1800 Block of NEWCOMB AV -122.394926  37.738212  \n",
       "\n",
       "[878049 rows x 9 columns]"
      ]
     },
     "execution_count": 3,
     "metadata": {},
     "output_type": "execute_result"
    }
   ],
   "source": [
    "fdf"
   ]
  },
  {
   "cell_type": "code",
   "execution_count": 4,
   "metadata": {},
   "outputs": [],
   "source": [
    "# Dropping categories that have low number of occurances or are not useful to dataset\n",
    "fdf = fdf[fdf['Category'] != 'TREA']\n",
    "fdf = fdf[fdf['Category'] != 'PORNOGRAPHY/OBSCENE MAT']\n",
    "fdf = fdf[fdf['Category'] != 'SUSPICIOUS OCC']\n",
    "fdf = fdf[fdf['Category'] != 'OTHER OFFENSES']\n",
    "fdf = fdf[fdf['Category'] != 'NON-CRIMINAL']\n",
    "fdf = fdf[fdf['Category'] != 'MISSING PERSON']\n",
    "fdf = fdf[fdf['Category'] != 'SECONDARY CODES']\n",
    "fdf = fdf[fdf['Y'] != 90.000000]\n",
    "\n",
    "fdf = fdf[fdf['Category'] != 'LARCENY/THEFT']\n",
    "fdf = fdf[fdf['Category'] != 'VEHICLE THEFT']\n",
    "fdf = fdf[fdf['Category'] != 'FRAUD']\n",
    "fdf = fdf[fdf['Category'] != 'FORGERY/COUNTERFEITING']\n",
    "fdf = fdf[fdf['Category'] != 'EMBEZZLEMENT']\n",
    "fdf = fdf[fdf['Category'] != 'BRIBERY']\n",
    "fdf = fdf[fdf['Category'] != 'EXTORTION']\n",
    "fdf = fdf[fdf['Category'] != 'BAD CHECKS']\n",
    "fdf = fdf[fdf['Category'] != 'GAMBLING']\n",
    "fdf = fdf[fdf['Category'] != 'DRIVING UNDER THE INFLUENCE']\n",
    "fdf = fdf[fdf['Category'] != 'WARRANTS']\n",
    "fdf = fdf[fdf['Category'] != 'LOITERING']\n",
    "fdf = fdf[fdf['Category'] != 'RUNAWAY']\n",
    "fdf = fdf[fdf['Category'] != 'LIQUOR LAWS']"
   ]
  },
  {
   "cell_type": "code",
   "execution_count": 5,
   "metadata": {},
   "outputs": [
    {
     "data": {
      "image/png": "[encoded data removed]",
      "text/plain": [
       "<Figure size 720x360 with 1 Axes>"
      ]
     },
     "metadata": {
      "needs_background": "light"
     },
     "output_type": "display_data"
    }
   ],
   "source": [
    "crime_count = fdf['Category'].value_counts()\n",
    "plt.figure(figsize=(10,5))\n",
    "sns.barplot(crime_count.index, crime_count.values, alpha=0.8)\n",
    "plt.title('Crime Occurrences')\n",
    "plt.ylabel('Number of Occurrences', fontsize=12)\n",
    "plt.xlabel('Crime Category', fontsize=12)\n",
    "plt.xticks(rotation=90)\n",
    "plt.show()"
   ]
  },
  {
   "cell_type": "code",
   "execution_count": 6,
   "metadata": {},
   "outputs": [],
   "source": [
    "# Split Dates up into Year, Month, Day, Hour\n",
    "\n",
    "tempf = fdf[\"Dates\"].str.split(\"-\", n = 2, expand=True)\n",
    "fdf[\"Year\"] = tempf[0]\n",
    "fdf[\"Month\"] = tempf[1]\n",
    "fdf[\"Day\"] = tempf[2]\n",
    "fdf.drop(columns = [\"Dates\"], inplace=True)\n",
    "\n",
    "tempf = fdf[\"Day\"].str.split(\" \", n = 1, expand=True)\n",
    "fdf[\"Day\"] = tempf[0]\n",
    "fdf[\"Hour\"] = tempf[1]\n",
    "\n",
    "tempf = fdf[\"Hour\"].str.split(\":\", n = 1, expand=True)\n",
    "fdf[\"Hour\"] = tempf[0]\n",
    "\n",
    "fdf[\"Year\"] = pd.to_numeric(fdf[\"Year\"])\n",
    "fdf[\"Month\"] = pd.to_numeric(fdf[\"Month\"])\n",
    "fdf[\"Day\"] = pd.to_numeric(fdf[\"Day\"])\n",
    "fdf[\"Hour\"] = pd.to_numeric(fdf[\"Hour\"])\n",
    "\n",
    "fdf = fdf.reset_index(drop=True)"
   ]
  },
  {
   "cell_type": "code",
   "execution_count": 7,
   "metadata": {},
   "outputs": [],
   "source": [
    "temparr = []\n",
    "for r in fdf.index:\n",
    "    day = str(fdf[\"Month\"][r])+\"/\"+str(fdf[\"Day\"][r])+\"/\"+str(fdf[\"Year\"][r])\n",
    "    temparr.append(sf.loc[sf[\"Date\"] == day, 'Mean.TemperatureF'].iloc[0])"
   ]
  },
  {
   "cell_type": "code",
   "execution_count": 8,
   "metadata": {},
   "outputs": [],
   "source": [
    "fdf['Meantemp'] = pd.Series(temparr)\n",
    "fdf = fdf.drop(columns=['Address', 'Descript', 'Resolution', 'PdDistrict', 'Year', 'Day'])"
   ]
  },
  {
   "cell_type": "code",
   "execution_count": 9,
   "metadata": {},
   "outputs": [
    {
     "name": "stdout",
     "output_type": "stream",
     "text": [
      "ASSAULT                      76872\n",
      "DRUG/NARCOTIC                53971\n",
      "VANDALISM                    44724\n",
      "BURGLARY                     36754\n",
      "ROBBERY                      22999\n",
      "WEAPON LAWS                   8555\n",
      "PROSTITUTION                  7484\n",
      "TRESPASS                      7325\n",
      "STOLEN PROPERTY               4539\n",
      "SEX OFFENSES FORCIBLE         4387\n",
      "DISORDERLY CONDUCT            4318\n",
      "DRUNKENNESS                   4280\n",
      "RECOVERED VEHICLE             3138\n",
      "KIDNAPPING                    2341\n",
      "ARSON                         1513\n",
      "SUICIDE                        508\n",
      "FAMILY OFFENSES                491\n",
      "SEX OFFENSES NON FORCIBLE      148\n",
      "Name: Category, dtype: int64\n"
     ]
    }
   ],
   "source": [
    "df = fdf.copy()\n",
    "print(df['Category'].value_counts())"
   ]
  },
  {
   "cell_type": "code",
   "execution_count": 10,
   "metadata": {},
   "outputs": [
    {
     "name": "stdout",
     "output_type": "stream",
     "text": [
      "1    90280\n",
      "2    67430\n",
      "5    60647\n",
      "4    53971\n",
      "3    12019\n",
      "Name: Category, dtype: int64\n"
     ]
    }
   ],
   "source": [
    "# Sorts the above 18 categories into 5 categories for more useful and accurate categorization\n",
    "\n",
    "d = {'FAMILY OFFENSES': 0, 'ASSAULT': 1, 'KIDNAPPING': 2, 'ARSON': 3, 'SUICIDE': 4, 'WEAPON LAWS': 5, \\\n",
    "     'BURGLARY': 7, 'ROBBERY': 8, 'STOLEN PROPERTY': 9, 'RECOVERED VEHICLE': 10, 'PROSTITUTION': 11, \\\n",
    "     'SEX OFFENSES FORCIBLE': 12, 'SEX OFFENSES NON FORCIBLE': 13, 'DRUG/NARCOTIC': 14, 'VANDALISM': 15, 'TRESPASS': 16, \\\n",
    "     'DISORDERLY CONDUCT': 17, 'DRUNKENNESS': 18}\n",
    "\n",
    "df['Category'] = df['Category'].map(d).fillna(df['Category'])\n",
    "\n",
    "df['Category'] = pd.cut(df['Category'], bins=[0, 5, 10, 13, 14, 18], include_lowest=True,\\\n",
    "                        labels=['1', '2', '3', '4', '5'])\n",
    "\n",
    "df[\"Category\"] = pd.to_numeric(df[\"Category\"])\n",
    "\n",
    "# {'Violent Crime': 1, 'Theft': 2, 'Sex Offences': 3, 'Drug Offences': 4, 'Mischief': 5}\n",
    "\n",
    "print(df['Category'].value_counts())"
   ]
  },
  {
   "cell_type": "code",
   "execution_count": 11,
   "metadata": {},
   "outputs": [
    {
     "data": {
      "image/png": "[encoded data removed]",
      "text/plain": [
       "<Figure size 720x360 with 1 Axes>"
      ]
     },
     "metadata": {
      "needs_background": "light"
     },
     "output_type": "display_data"
    }
   ],
   "source": [
    "crime_count = df['Category'].value_counts()\n",
    "plt.figure(figsize=(10,5))\n",
    "xaxis = ['Violent Crime','Theft','Mischief','Drug Offences', 'Sex Offences']\n",
    "sns.barplot(xaxis, crime_count.values, alpha=0.8)\n",
    "plt.title('Crime Occurrences')\n",
    "plt.ylabel('Number of Occurrences', fontsize=12)\n",
    "plt.xlabel('Crime Category', fontsize=12)\n",
    "plt.show()"
   ]
  },
  {
   "cell_type": "code",
   "execution_count": 12,
   "metadata": {},
   "outputs": [],
   "source": [
    "col_names = ['Category', 'DayOfWeek', 'X', 'Y','Month', 'Hour', 'Meantemp']\n",
    "crimehour = [pd.DataFrame(columns = col_names)] * 24\n",
    "\n",
    "for index, row in df.iterrows():\n",
    "    h = row['Hour']\n",
    "    crimehour[h] = pd.concat([crimehour[h], pd.DataFrame([[row['Category'], row['DayOfWeek'], row['X'], row['Y'], row['Month'], row['Hour'], row['Meantemp']]], columns = col_names)], ignore_index=True)"
   ]
  },
  {
   "cell_type": "code",
   "execution_count": 13,
   "metadata": {},
   "outputs": [
    {
     "data": {
      "text/plain": [
       "Category       int64\n",
       "DayOfWeek      int64\n",
       "X            float64\n",
       "Y            float64\n",
       "Month          int64\n",
       "Hour           int64\n",
       "Meantemp       int64\n",
       "dtype: object"
      ]
     },
     "execution_count": 13,
     "metadata": {},
     "output_type": "execute_result"
    }
   ],
   "source": [
    "# Making day of the week a numerical value\n",
    "dotw = {'Monday': 1, 'Tuesday': 2, 'Wednesday': 3, 'Thursday': 4, 'Friday': 5, 'Saturday': 6, 'Sunday': 7}\n",
    "df['DayOfWeek'] = df['DayOfWeek'].map(dotw).fillna(df['DayOfWeek'])\n",
    "df.dtypes"
   ]
  },
  {
   "cell_type": "code",
   "execution_count": 14,
   "metadata": {},
   "outputs": [
    {
     "data": {
      "text/html": [
       "<div>\n",
       "<style scoped>\n",
       "    .dataframe tbody tr th:only-of-type {\n",
       "        vertical-align: middle;\n",
       "    }\n",
       "\n",
       "    .dataframe tbody tr th {\n",
       "        vertical-align: top;\n",
       "    }\n",
       "\n",
       "    .dataframe thead th {\n",
       "        text-align: right;\n",
       "    }\n",
       "</style>\n",
       "<table border=\"1\" class=\"dataframe\">\n",
       "  <thead>\n",
       "    <tr style=\"text-align: right;\">\n",
       "      <th></th>\n",
       "      <th>Category</th>\n",
       "      <th>DayOfWeek</th>\n",
       "      <th>X</th>\n",
       "      <th>Y</th>\n",
       "      <th>Month</th>\n",
       "      <th>Hour</th>\n",
       "      <th>Meantemp</th>\n",
       "    </tr>\n",
       "  </thead>\n",
       "  <tbody>\n",
       "    <tr>\n",
       "      <th>0</th>\n",
       "      <td>1</td>\n",
       "      <td>3</td>\n",
       "      <td>-122.380348</td>\n",
       "      <td>37.728828</td>\n",
       "      <td>9</td>\n",
       "      <td>20</td>\n",
       "      <td>70</td>\n",
       "    </tr>\n",
       "    <tr>\n",
       "      <th>1</th>\n",
       "      <td>2</td>\n",
       "      <td>7</td>\n",
       "      <td>-122.459572</td>\n",
       "      <td>37.783217</td>\n",
       "      <td>10</td>\n",
       "      <td>17</td>\n",
       "      <td>60</td>\n",
       "    </tr>\n",
       "    <tr>\n",
       "      <th>2</th>\n",
       "      <td>2</td>\n",
       "      <td>4</td>\n",
       "      <td>-122.416124</td>\n",
       "      <td>37.797235</td>\n",
       "      <td>6</td>\n",
       "      <td>9</td>\n",
       "      <td>71</td>\n",
       "    </tr>\n",
       "    <tr>\n",
       "      <th>3</th>\n",
       "      <td>1</td>\n",
       "      <td>6</td>\n",
       "      <td>-122.416699</td>\n",
       "      <td>37.736316</td>\n",
       "      <td>2</td>\n",
       "      <td>22</td>\n",
       "      <td>52</td>\n",
       "    </tr>\n",
       "    <tr>\n",
       "      <th>4</th>\n",
       "      <td>2</td>\n",
       "      <td>7</td>\n",
       "      <td>-122.432841</td>\n",
       "      <td>37.762224</td>\n",
       "      <td>3</td>\n",
       "      <td>6</td>\n",
       "      <td>57</td>\n",
       "    </tr>\n",
       "    <tr>\n",
       "      <th>...</th>\n",
       "      <td>...</td>\n",
       "      <td>...</td>\n",
       "      <td>...</td>\n",
       "      <td>...</td>\n",
       "      <td>...</td>\n",
       "      <td>...</td>\n",
       "      <td>...</td>\n",
       "    </tr>\n",
       "    <tr>\n",
       "      <th>284342</th>\n",
       "      <td>2</td>\n",
       "      <td>2</td>\n",
       "      <td>-122.417085</td>\n",
       "      <td>37.785215</td>\n",
       "      <td>4</td>\n",
       "      <td>10</td>\n",
       "      <td>52</td>\n",
       "    </tr>\n",
       "    <tr>\n",
       "      <th>284343</th>\n",
       "      <td>5</td>\n",
       "      <td>6</td>\n",
       "      <td>-122.413893</td>\n",
       "      <td>37.782347</td>\n",
       "      <td>10</td>\n",
       "      <td>10</td>\n",
       "      <td>64</td>\n",
       "    </tr>\n",
       "    <tr>\n",
       "      <th>284344</th>\n",
       "      <td>1</td>\n",
       "      <td>4</td>\n",
       "      <td>-122.465757</td>\n",
       "      <td>37.714229</td>\n",
       "      <td>2</td>\n",
       "      <td>15</td>\n",
       "      <td>59</td>\n",
       "    </tr>\n",
       "    <tr>\n",
       "      <th>284345</th>\n",
       "      <td>2</td>\n",
       "      <td>5</td>\n",
       "      <td>-122.451152</td>\n",
       "      <td>37.787711</td>\n",
       "      <td>11</td>\n",
       "      <td>20</td>\n",
       "      <td>57</td>\n",
       "    </tr>\n",
       "    <tr>\n",
       "      <th>284346</th>\n",
       "      <td>4</td>\n",
       "      <td>3</td>\n",
       "      <td>-122.409504</td>\n",
       "      <td>37.781526</td>\n",
       "      <td>9</td>\n",
       "      <td>12</td>\n",
       "      <td>69</td>\n",
       "    </tr>\n",
       "  </tbody>\n",
       "</table>\n",
       "<p>284347 rows × 7 columns</p>\n",
       "</div>"
      ],
      "text/plain": [
       "        Category  DayOfWeek           X          Y  Month  Hour  Meantemp\n",
       "0              1          3 -122.380348  37.728828      9    20        70\n",
       "1              2          7 -122.459572  37.783217     10    17        60\n",
       "2              2          4 -122.416124  37.797235      6     9        71\n",
       "3              1          6 -122.416699  37.736316      2    22        52\n",
       "4              2          7 -122.432841  37.762224      3     6        57\n",
       "...          ...        ...         ...        ...    ...   ...       ...\n",
       "284342         2          2 -122.417085  37.785215      4    10        52\n",
       "284343         5          6 -122.413893  37.782347     10    10        64\n",
       "284344         1          4 -122.465757  37.714229      2    15        59\n",
       "284345         2          5 -122.451152  37.787711     11    20        57\n",
       "284346         4          3 -122.409504  37.781526      9    12        69\n",
       "\n",
       "[284347 rows x 7 columns]"
      ]
     },
     "execution_count": 14,
     "metadata": {},
     "output_type": "execute_result"
    }
   ],
   "source": [
    "df = df.sample(frac=1).reset_index(drop=True)\n",
    "df"
   ]
  },
  {
   "cell_type": "code",
   "execution_count": 23,
   "metadata": {},
   "outputs": [],
   "source": [
    "x_col = ['DayOfWeek', 'X', 'Y','Month', 'Hour', 'Meantemp']\n",
    "x = df[x_col].values\n",
    "y = df['Category'].values\n",
    "\n",
    "from sklearn.preprocessing import StandardScaler\n",
    "from sklearn.model_selection import train_test_split\n",
    "x_train, x_test, y_train, y_test = train_test_split(x, y, test_size=0.2, random_state=0)\n",
    "\n",
    "mapx_test = x_test.copy()\n",
    "\n",
    "sc = StandardScaler()\n",
    "x_train = sc.fit_transform(x_train)\n",
    "x_test = sc.transform(x_test)"
   ]
  },
  {
   "cell_type": "code",
   "execution_count": 24,
   "metadata": {},
   "outputs": [
    {
     "name": "stdout",
     "output_type": "stream",
     "text": [
      "[0.07574164 0.26189013 0.26641695 0.11466524 0.12529988 0.15598616]\n",
      "       Actual  Predicted\n",
      "56845       2          2\n",
      "56846       2          2\n",
      "56847       4          4\n",
      "56848       1          1\n",
      "56849       2          1\n",
      "56850       4          4\n",
      "56851       3          1\n",
      "56852       5          2\n",
      "56853       4          4\n",
      "56854       4          4\n",
      "56855       2          2\n",
      "56856       2          4\n",
      "56857       5          5\n",
      "56858       4          1\n",
      "56859       2          2\n",
      "56860       2          2\n",
      "56861       5          1\n",
      "56862       3          2\n",
      "56863       5          5\n",
      "56864       4          4\n",
      "56865       2          5\n",
      "56866       5          1\n",
      "56867       1          5\n",
      "56868       2          1\n",
      "56869       5          1\n",
      "   Correct  Total\n",
      "0    10404  18104\n",
      "1     5418  13479\n",
      "2     1198   2327\n",
      "3     7343  10828\n",
      "4     3377  12132\n",
      "\n",
      "27740 / 56870 = 0.4877791454193775\n"
     ]
    }
   ],
   "source": [
    "# Random Forest Classifer \n",
    "\n",
    "from sklearn.ensemble import RandomForestClassifier\n",
    "\n",
    "rf = RandomForestClassifier(n_estimators=120,min_samples_leaf=2)\n",
    "rf.fit(x_train, y_train)\n",
    "y_pred = rf.predict(x_test)\n",
    "print(rf.feature_importances_)\n",
    "\n",
    "dfpred = pd.DataFrame({'Actual': y_test, 'Predicted': y_pred})\n",
    "\n",
    "correct = np.zeros((5), dtype=int)\n",
    "total = np.zeros((5), dtype=int)\n",
    "\n",
    "for crime in dfpred.values:\n",
    "    if crime[0] == crime[1]:\n",
    "        correct[crime[0]-1] += 1\n",
    "    total[crime[0]-1] += 1\n",
    "    \n",
    "ocorrect, ototal = sum(correct), sum(total)\n",
    "        \n",
    "compare = pd.DataFrame({'Correct': correct, 'Total': total})\n",
    "        \n",
    "print(dfpred.tail(25))\n",
    "print(compare)\n",
    "print()\n",
    "print(ocorrect, \"/\", ototal, \"=\", ocorrect/ototal)"
   ]
  },
  {
   "cell_type": "code",
   "execution_count": 25,
   "metadata": {},
   "outputs": [],
   "source": [
    "c = compare['Correct'].values\n",
    "t = compare['Total'].values\n",
    "c[2], c[4] = c[4], c[2]\n",
    "t[2], t[4] = t[4], t[2]"
   ]
  },
  {
   "cell_type": "code",
   "execution_count": 26,
   "metadata": {},
   "outputs": [
    {
     "data": {
      "image/png": "[encoded data removed]",
      "text/plain": [
       "<Figure size 720x360 with 1 Axes>"
      ]
     },
     "metadata": {
      "needs_background": "light"
     },
     "output_type": "display_data"
    }
   ],
   "source": [
    "# Shows total vs correct predictions\n",
    "\n",
    "crime_count = df['Category'].value_counts()\n",
    "plt.figure(figsize=(10,5))\n",
    "xaxis = ['Violent Crime','Theft','Mischief','Drug Offences', 'Sex Offences']\n",
    "sns.barplot(xaxis, t, alpha=0.5)\n",
    "sns.barplot(xaxis, c, alpha=0.8)\n",
    "plt.title('Crime Occurrences')\n",
    "plt.ylabel('Number of Occurrences', fontsize=12)\n",
    "plt.xlabel('Crime Category', fontsize=12)\n",
    "plt.show()"
   ]
  },
  {
   "cell_type": "code",
   "execution_count": 27,
   "metadata": {},
   "outputs": [],
   "source": [
    "# Setting up widgets for map tool\n",
    "\n",
    "import ipyleaflet\n",
    "from ipyleaflet import Map, basemaps, Marker, CircleMarker, WidgetControl\n",
    "from ipywidgets import widgets\n",
    "from ipywidgets import IntSlider\n",
    "from IPython.display import display\n",
    "from sklearn.cluster import MeanShift\n",
    "\n",
    "tp = IntSlider(description='Temp(F):', min=40, max=82, value=40)\n",
    "hr = IntSlider(description='Hour:', min=0, max=23, value=0)\n",
    "month = widgets.Dropdown(\n",
    "    options=[('January', 1), ('February', 2), ('March', 3), ('April', 4), ('May', 5),\\\n",
    "             ('June', 6), ('July', 7), ('August', 8), ('September', 9), ('October', 10),\\\n",
    "             ('November', 11), ('December', 12)],\n",
    "    value=1,\n",
    "    description='Month:',\n",
    "    disabled=False,\n",
    ")\n",
    "dow = widgets.Dropdown(\n",
    "    options=['Monday', 'Tuesday', 'Wednesday', 'Thursday', 'Friday', 'Saturday', 'Sunday'],\n",
    "    value='Monday',\n",
    "    description='Day:',\n",
    "    disabled=False,\n",
    ")\n",
    "\n",
    "ac = widgets.Checkbox(\n",
    "    value=True,\n",
    "    description='Show Actual Crime',\n",
    "    disabled=False,\n",
    "    indent=True\n",
    ")\n",
    "\n",
    "sp = widgets.Checkbox(\n",
    "    value=True,\n",
    "    description='Show Prediction',\n",
    "    disabled=False,\n",
    "    indent=True\n",
    ")"
   ]
  },
  {
   "cell_type": "code",
   "execution_count": 28,
   "metadata": {},
   "outputs": [
    {
     "data": {
      "application/vnd.jupyter.widget-view+json": {
       "model_id": "7399e0155611494da0c2538f958d5456",
       "version_major": 2,
       "version_minor": 0
      },
      "text/plain": [
       "Dropdown(description='Month:', options=(('January', 1), ('February', 2), ('March', 3), ('April', 4), ('May', 5…"
      ]
     },
     "metadata": {},
     "output_type": "display_data"
    },
    {
     "data": {
      "application/vnd.jupyter.widget-view+json": {
       "model_id": "9e165ad874b94e8fafa5abfd9e7dbc8b",
       "version_major": 2,
       "version_minor": 0
      },
      "text/plain": [
       "Dropdown(description='Day:', options=('Monday', 'Tuesday', 'Wednesday', 'Thursday', 'Friday', 'Saturday', 'Sun…"
      ]
     },
     "metadata": {},
     "output_type": "display_data"
    },
    {
     "data": {
      "application/vnd.jupyter.widget-view+json": {
       "model_id": "8e567d9f8f57458a8e53c0d897a38a15",
       "version_major": 2,
       "version_minor": 0
      },
      "text/plain": [
       "IntSlider(value=0, description='Hour:', max=23)"
      ]
     },
     "metadata": {},
     "output_type": "display_data"
    },
    {
     "data": {
      "application/vnd.jupyter.widget-view+json": {
       "model_id": "77079e43a3004ce98e07e4b5bd51ce77",
       "version_major": 2,
       "version_minor": 0
      },
      "text/plain": [
       "IntSlider(value=40, description='Temp(F):', max=82, min=40)"
      ]
     },
     "metadata": {},
     "output_type": "display_data"
    },
    {
     "data": {
      "application/vnd.jupyter.widget-view+json": {
       "model_id": "d12f670c4c8f46758b62080f82f06c33",
       "version_major": 2,
       "version_minor": 0
      },
      "text/plain": [
       "Checkbox(value=True, description='Show Actual Crime')"
      ]
     },
     "metadata": {},
     "output_type": "display_data"
    },
    {
     "data": {
      "application/vnd.jupyter.widget-view+json": {
       "model_id": "0c5eec6876bc4a0a95dd76c96e138488",
       "version_major": 2,
       "version_minor": 0
      },
      "text/plain": [
       "Checkbox(value=True, description='Show Prediction')"
      ]
     },
     "metadata": {},
     "output_type": "display_data"
    }
   ],
   "source": [
    "display(month)\n",
    "display(dow)\n",
    "display(hr)\n",
    "display(tp)\n",
    "display(ac)\n",
    "display(sp)\n",
    "\n",
    "# Set the inputs here, then run all cells below this one"
   ]
  },
  {
   "cell_type": "code",
   "execution_count": 29,
   "metadata": {},
   "outputs": [],
   "source": [
    "m = Map(basemap=basemaps.CartoDB.Positron, center=[37.7600, -122.4004], zoom=12)\n",
    "coordslist = np.array([[0,0]])\n",
    "\n",
    "dropdown_control1 = WidgetControl(widget=month, position='topright')\n",
    "m.add_control(dropdown_control1)\n",
    "\n",
    "dropdown_control2 = WidgetControl(widget=dow, position='topright')\n",
    "m.add_control(dropdown_control2)\n",
    "\n",
    "slider_control1 = WidgetControl(widget=hr, position='topright')\n",
    "m.add_control(slider_control1)\n",
    "\n",
    "slider_control = WidgetControl(widget=tp, position='topright')\n",
    "m.add_control(slider_control)\n",
    "\n",
    "check1 = WidgetControl(widget=ac, position='topright')\n",
    "m.add_control(check1)\n",
    "\n",
    "check2 = WidgetControl(widget=sp, position='topright')\n",
    "m.add_control(check2)"
   ]
  },
  {
   "cell_type": "code",
   "execution_count": 30,
   "metadata": {},
   "outputs": [],
   "source": [
    "catdict = {1:\"red\", 2:\"purple\", 3:\"green\", 4:\"yellow\", 5:\"blue\"}\n",
    "for index, row in crimehour[hr.value].iterrows():\n",
    "    if row['Month'] == month.value and row['DayOfWeek'] == dow.value:\n",
    "        coordslist = np.append(coordslist, [[row['Y'], row['X']]], axis=0)\n",
    "\n",
    "mp = mapx_test\n",
    "\n",
    "if ac.value:\n",
    "    for i in range(len(mp)):\n",
    "        if mp[i][0] == float(dotw[dow.value]) and mp[i][3] == float(month.value) and mp[i][4] == float(hr.value):\n",
    "            circle_marker = CircleMarker()\n",
    "            circle_marker.location = (mp[i][2], mp[i][1])\n",
    "            circle_marker.radius = 2\n",
    "            circle_marker.color = catdict[y_test[i]]\n",
    "            circle_marker.fill_color = catdict[y_test[i]]\n",
    "            m.add_layer(circle_marker)\n",
    "\n",
    "coordslist = np.delete(coordslist, 0, 0)"
   ]
  },
  {
   "cell_type": "code",
   "execution_count": 31,
   "metadata": {},
   "outputs": [],
   "source": [
    "clustering = MeanShift(bandwidth=.01).fit(coordslist)\n",
    "dowlist, xc, yc, mlist, hlist, tlist = [], [], [], [], [], []\n",
    "for cc in clustering.cluster_centers_:\n",
    "    dowlist.append(dow.value)\n",
    "    yc.append(cc[0])\n",
    "    xc.append(cc[1])\n",
    "    mlist.append(month.value)\n",
    "    hlist.append(hr.value)\n",
    "    tlist.append(tp.value)\n",
    "    \n",
    "mappred = pd.DataFrame({'DayOfWeek': dowlist, 'X': xc, 'Y': yc, 'Month': mlist,\n",
    "                       'Hour': hlist, 'Meantemp': tlist})\n",
    "\n",
    "d = {'Monday': 1, 'Tuesday': 2, 'Wednesday': 3, 'Thursday': 4, 'Friday': 5, 'Saturday': 6, 'Sunday': 7}\n",
    "mappred['DayOfWeek'] = mappred['DayOfWeek'].map(d).fillna(mappred['DayOfWeek'])\n",
    "\n",
    "mappred = sc.fit_transform(mappred)\n",
    "mpred = rf.predict(mappred)"
   ]
  },
  {
   "cell_type": "code",
   "execution_count": 32,
   "metadata": {},
   "outputs": [
    {
     "data": {
      "application/vnd.jupyter.widget-view+json": {
       "model_id": "92934188ef934bfd91edd2d479d6635e",
       "version_major": 2,
       "version_minor": 0
      },
      "text/plain": [
       "Map(center=[37.76, -122.4004], controls=(ZoomControl(options=['position', 'zoom_in_text', 'zoom_in_title', 'zo…"
      ]
     },
     "metadata": {},
     "output_type": "display_data"
    }
   ],
   "source": [
    "cc = clustering.cluster_centers_\n",
    "if sp.value:\n",
    "    for i in range(len(cc)):\n",
    "        circle_marker = CircleMarker()\n",
    "        circle_marker.location = (cc[i][0], cc[i][1])\n",
    "        circle_marker.radius = 15\n",
    "        circle_marker.color = catdict[mpred[i]]\n",
    "        circle_marker.stroke = False\n",
    "        m.add_layer(circle_marker)\n",
    "m\n",
    "\n",
    "#  'Violent Crime': Red, \n",
    "#  'Theft'        : Purple,\n",
    "#  'Sex Offences' : Green, \n",
    "#  'Drug Offences': Yellow, \n",
    "#  'Mischief'     : Blue "
   ]
  }
 ],
 "metadata": {
  "kernelspec": {
   "display_name": "Python 3",
   "language": "python",
   "name": "python3"
  },
  "language_info": {
   "codemirror_mode": {
    "name": "ipython",
    "version": 3
   },
   "file_extension": ".py",
   "mimetype": "text/x-python",
   "name": "python",
   "nbconvert_exporter": "python",
   "pygments_lexer": "ipython3",
   "version": "3.7.0b4"
  }
 },
 "nbformat": 4,
 "nbformat_minor": 4
}
